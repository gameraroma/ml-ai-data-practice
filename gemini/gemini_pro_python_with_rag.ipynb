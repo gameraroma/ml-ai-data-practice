{
 "cells": [
  {
   "cell_type": "markdown",
   "metadata": {
    "id": "VEqbX8OhE8y9"
   },
   "source": [
    "# Gemini Pro with RAG"
   ]
  },
  {
   "cell_type": "markdown",
   "metadata": {},
   "source": [
    "This notebook modified from Colab Enterprise by go to Google cloud console -> Vertext AI -> Notebook, Colab Enterprise -> Sample notebooks\n",
    "->  Getting started with Gemini Pro"
   ]
  },
  {
   "cell_type": "markdown",
   "metadata": {
    "id": "r11Gu7qNgx1p"
   },
   "source": [
    "## Getting Started\n"
   ]
  },
  {
   "cell_type": "markdown",
   "metadata": {
    "id": "No17Cw5hgx12"
   },
   "source": [
    "### Install Vertex AI SDK for Python\n"
   ]
  },
  {
   "cell_type": "code",
   "execution_count": null,
   "metadata": {
    "id": "tFy3H3aPgx12",
    "tags": []
   },
   "outputs": [],
   "source": [
    "! pip3 install --upgrade google-cloud-aiplatform"
   ]
  },
  {
   "cell_type": "markdown",
   "metadata": {
    "id": "R5Xep4W9lq-Z"
   },
   "source": [
    "### Restart current runtime\n",
    "\n",
    "To use the newly installed packages in this Jupyter runtime, you must restart the runtime. You can do this by running the cell below, which will restart the current kernel."
   ]
  },
  {
   "cell_type": "code",
   "execution_count": null,
   "metadata": {
    "colab": {
     "base_uri": "https://localhost:8080/"
    },
    "id": "XRvKdaPDTznN",
    "outputId": "154a71b5-f302-4f53-ed2f-b3e5fef9195b",
    "tags": []
   },
   "outputs": [],
   "source": [
    "# Restart kernel after installs so that your environment can access the new packages\n",
    "import IPython\n",
    "\n",
    "app = IPython.Application.instance()\n",
    "app.kernel.do_shutdown(True)"
   ]
  },
  {
   "cell_type": "markdown",
   "metadata": {
    "id": "dmWOrTJ3gx13"
   },
   "source": [
    "### Authenticate your notebook environment (Colab only)\n",
    "\n",
    "If you are running this notebook on Google Colab, run the following cell to authenticate your environment. This step is not required if you are using [Vertex AI Workbench](https://cloud.google.com/vertex-ai-workbench).\n"
   ]
  },
  {
   "cell_type": "code",
   "execution_count": 19,
   "metadata": {
    "id": "NyKGtVQjgx13",
    "tags": []
   },
   "outputs": [],
   "source": [
    "import sys\n",
    "\n",
    "# Additional authentication is required for Google Colab\n",
    "if \"google.colab\" in sys.modules:\n",
    "    # Authenticate user to Google Cloud\n",
    "    from google.colab import auth\n",
    "\n",
    "    auth.authenticate_user()"
   ]
  },
  {
   "cell_type": "markdown",
   "metadata": {
    "id": "DF4l8DTdWgPY"
   },
   "source": [
    "### Define Google Cloud project information and initialize Vertex AI\n",
    "\n",
    "To get started using Vertex AI, you must have an existing Google Cloud project and [enable the Vertex AI API](https://console.cloud.google.com/flows/enableapi?apiid=aiplatform.googleapis.com).\n",
    "\n",
    "Learn more about [setting up a project and a development environment](https://cloud.google.com/vertex-ai/docs/start/cloud-environment).\n",
    "\n",
    "This step also need to add service account key json file to the same directory as this notebook. The json file can be created by followed this step in this [link](https://cloud.google.com/iam/docs/keys-create-delete#creating)\n",
    "\n",
    "About service account key [link](https://cloud.google.com/docs/authentication/provide-credentials-adc#wlif-key)"
   ]
  },
  {
   "cell_type": "code",
   "execution_count": 28,
   "metadata": {
    "id": "Nqwi-5ufWp_B",
    "tags": []
   },
   "outputs": [],
   "source": [
    "# Define project information\n",
    "PROJECT_ID = \"uitemplate-1537275286220\"  # @param {type:\"string\"}\n",
    "LOCATION = \"asia-southeast1\"  # @param {type:\"string\"}\n",
    "\n",
    "import os\n",
    "# Service account key in environment variable\n",
    "os.environ['GOOGLE_APPLICATION_CREDENTIALS'] = \"uitemplate-1537275286220-52dce999e843.json\"\n",
    "\n",
    "# Initialize Vertex AI\n",
    "import vertexai\n",
    "\n",
    "vertexai.init(project=PROJECT_ID, location=LOCATION)"
   ]
  },
  {
   "cell_type": "markdown",
   "metadata": {},
   "source": [
    "ensure that environment variable has been set"
   ]
  },
  {
   "cell_type": "code",
   "execution_count": 29,
   "metadata": {},
   "outputs": [
    {
     "name": "stdout",
     "output_type": "stream",
     "text": [
      "uitemplate-1537275286220-52dce999e843.json\n"
     ]
    }
   ],
   "source": [
    "print(os.environ[\"GOOGLE_APPLICATION_CREDENTIALS\"])"
   ]
  },
  {
   "cell_type": "markdown",
   "metadata": {
    "id": "jXHfaVS66_01"
   },
   "source": [
    "### Import libraries\n"
   ]
  },
  {
   "cell_type": "code",
   "execution_count": 23,
   "metadata": {
    "id": "lslYAvw37JGQ",
    "tags": []
   },
   "outputs": [],
   "source": [
    "from vertexai.generative_models import (\n",
    "    GenerationConfig,\n",
    "    GenerativeModel,\n",
    ")"
   ]
  },
  {
   "cell_type": "markdown",
   "metadata": {
    "id": "4437b7608c8e"
   },
   "source": [
    "## Use the Gemini 1.5 Pro model\n",
    "\n",
    "The Gemini 1.5 Pro (`gemini-1.5-pro`) model is designed to handle natural language tasks, multi-turn text and code chat, and code generation.\n"
   ]
  },
  {
   "cell_type": "markdown",
   "metadata": {
    "id": "BY1nfXrqRxVX"
   },
   "source": [
    "### Load the Gemini 1.0 Pro model\n"
   ]
  },
  {
   "cell_type": "code",
   "execution_count": 24,
   "metadata": {
    "id": "2998506fe6d1",
    "tags": []
   },
   "outputs": [],
   "source": [
    "model = GenerativeModel(\"gemini-1.5-pro\")"
   ]
  },
  {
   "cell_type": "markdown",
   "metadata": {
    "id": "AIl7R_jBUsaC"
   },
   "source": [
    "### Generate text from text prompts\n",
    "\n",
    "Send a text prompt to the model. The Gemini 1.5 Pro (`gemini-1.5-pro`) model provides a streaming response mechanism. With this approach, you don't need to wait for the complete response; you can start processing fragments as soon as they're accessible.\n"
   ]
  },
  {
   "cell_type": "code",
   "execution_count": null,
   "metadata": {
    "id": "eAo-UsfZECGF",
    "outputId": "8da0199c-d5e3-4384-ca02-966ecd41f083",
    "tags": []
   },
   "outputs": [],
   "source": [
    "responses = model.generate_content(\"How the hybrid car work?\", stream=True)\n",
    "\n",
    "for response in responses:\n",
    "    print(response.text, end=\"\")"
   ]
  },
  {
   "cell_type": "markdown",
   "metadata": {},
   "source": [
    "--------------------------------------------- Commit ---------------------------------------------"
   ]
  },
  {
   "cell_type": "markdown",
   "metadata": {
    "id": "Us8idXnVyQ97"
   },
   "source": [
    "#### Try your own prompts\n",
    "\n",
    "- What are the biggest challenges facing the healthcare industry?\n",
    "- What are the latest developments in the automotive industry?\n",
    "- What are the biggest opportunities in retail industry?\n",
    "- (Try your own prompts!)\n"
   ]
  },
  {
   "cell_type": "code",
   "execution_count": 6,
   "metadata": {
    "id": "MmAZQW1GyQ97",
    "outputId": "2bc4ce7e-5233-45bd-affd-ad2c12db340d",
    "tags": []
   },
   "outputs": [
    {
     "name": "stdout",
     "output_type": "stream",
     "text": [
      "1. Artificial Intelligence\n",
      "2. Cloud Computing\n",
      "3. Cybersecurity\n",
      "4. 5G Networks\n",
      "5. IoT (Internet of Things)\n",
      "6. Blockchain\n",
      "7. Augmented Reality\n",
      "8. Machine Learning\n",
      "9. Quantum Computing\n",
      "10. Robotics"
     ]
    }
   ],
   "source": [
    "prompt = \"\"\"Create a numbered list of 10 items. Each item in the list should be a trend in the tech industry.\n",
    "\n",
    "Each trend should be less than 5 words.\"\"\"  # try your own prompt\n",
    "\n",
    "responses = model.generate_content(prompt, stream=True)\n",
    "\n",
    "for response in responses:\n",
    "    print(response.text, end=\"\")"
   ]
  },
  {
   "cell_type": "markdown",
   "metadata": {
    "id": "tDK4XLdz3Oqv"
   },
   "source": [
    "#### Model parameters\n",
    "\n",
    "Every prompt you send to the model includes parameter values that control how the model generates a response. The model can generate different results for different parameter values. You can experiment with different model parameters to see how the results change.\n"
   ]
  },
  {
   "cell_type": "code",
   "execution_count": 7,
   "metadata": {
    "id": "s_2ann-F3WTo",
    "outputId": "6ef5fb51-f340-4c70-ae0b-f0a4a09f3597",
    "tags": []
   },
   "outputs": [
    {
     "name": "stdout",
     "output_type": "stream",
     "text": [
      "The sky appears blue because of a phenomenon called Rayleigh scattering.\n",
      "\n",
      "White light from the sun is composed of all colors of the visible spectrum. As this light passes through the Earth's atmosphere, it encounters molecules of nitrogen, oxygen, and other gases. These molecules are much smaller than the wavelength of visible light, so they scatter the light in all directions.\n",
      "\n",
      "However, the amount of scattering depends on the wavelength of the light. Shorter wavelengths, such as blue and violet, are scattered more strongly than longer wavelengths, such as red and orange. This is because the smaller molecules of the atmosphere are more effective at scattering shorter wavelengths.\n",
      "\n",
      "As a result, the scattered light that reaches our eyes is predominantly blue and violet. This is what gives the sky its characteristic blue appearance.\n",
      "\n",
      "At sunset and sunrise, the sunlight has to travel through more of the atmosphere to reach our eyes. This allows more of the blue and violet light to be scattered away, leaving the remaining light to appear red, orange, or yellow."
     ]
    }
   ],
   "source": [
    "generation_config = GenerationConfig(\n",
    "    temperature=0.9,\n",
    "    top_p=1.0,\n",
    "    top_k=32,\n",
    "    candidate_count=1,\n",
    "    max_output_tokens=8192,\n",
    ")\n",
    "\n",
    "responses = model.generate_content(\n",
    "    \"Why is the sky blue?\",\n",
    "    generation_config=generation_config,\n",
    "    stream=True,\n",
    ")\n",
    "\n",
    "for response in responses:\n",
    "    print(response.text, end=\"\")"
   ]
  },
  {
   "cell_type": "markdown",
   "metadata": {
    "id": "ga0xM9z9fAnR"
   },
   "source": [
    "### Test chat prompts\n",
    "\n",
    "The Gemini 1.0 Pro model supports natural multi-turn conversations and is ideal for text tasks that require back-and-forth interactions. The following examples show how the model responds during a multi-turn conversation.\n"
   ]
  },
  {
   "cell_type": "code",
   "execution_count": 8,
   "metadata": {
    "id": "SFbGVflTfBBk",
    "outputId": "b6c2e137-67df-42f5-878d-ef53454fddf7",
    "tags": []
   },
   "outputs": [
    {
     "name": "stdout",
     "output_type": "stream",
     "text": [
      "**Fantasy Adventures:**\n",
      "\n",
      "* **Game of Thrones** (TV series): A complex and gripping fantasy epic with political intrigue, warfare, and mythical creatures.\n",
      "* **The Princess Bride** (1987): A charming and whimsical adventure with a fairy-tale setting and memorable characters.\n",
      "* **The Chronicles of Narnia: The Lion, the Witch and the Wardrobe** (2005): A magical and heartwarming adaptation of C.S. Lewis's classic novel.\n",
      "* **How to Train Your Dragon** (2010): An animated adventure about a young Viking who befriends a dragon and fights alongside him.\n",
      "* **Eragon** (2006): A fantasy epic based on Christopher Paolini's novel, featuring a young farm boy who discovers his destiny as a dragon rider.\n",
      "\n",
      "**Epic Historical Dramas:**\n",
      "\n",
      "* **Braveheart** (1995): A rousing and historically accurate tale of Scottish resistance against English rule.\n",
      "* **Gladiator** (2000): A brutal and immersive depiction of ancient Rome, with stunning battle scenes and a powerful performance from Russell Crowe.\n",
      "* **Kingdom of Heaven** (2005): A visually stunning and emotionally resonant historical epic set during the Crusades.\n",
      "* **The Last Samurai** (2003): A captivating exploration of cultural clashes and the power of redemption, set in 19th-century Japan.\n",
      "* **Troy** (2004): A stirring and action-packed adaptation of Homer's epic poem, featuring a star-studded cast and breathtaking battles."
     ]
    }
   ],
   "source": [
    "chat = model.start_chat()\n",
    "\n",
    "prompt = \"\"\"My name is Ned. You are my personal assistant. My favorite movies are Lord of the Rings and Hobbit.\n",
    "\n",
    "Suggest another movie I might like.\n",
    "\"\"\"\n",
    "\n",
    "responses = chat.send_message(prompt, stream=True)\n",
    "\n",
    "for response in responses:\n",
    "    print(response.text, end=\"\")"
   ]
  },
  {
   "cell_type": "markdown",
   "metadata": {
    "id": "ZP_z_Oh1J4nk"
   },
   "source": [
    "This follow-up prompt shows how the model responds based on the previous prompt:\n"
   ]
  },
  {
   "cell_type": "code",
   "execution_count": 9,
   "metadata": {
    "id": "OCq7JNBKJrI8",
    "outputId": "f2e3ea4f-6591-4f57-eb03-1047777c8ca1",
    "tags": []
   },
   "outputs": [
    {
     "name": "stdout",
     "output_type": "stream",
     "text": [
      "Yes, both **The Lord of the Rings** and **The Hobbit** are based on book series by J.R.R. Tolkien.\n",
      "\n",
      "* **The Lord of the Rings** is a trilogy of epic fantasy novels published between 1954 and 1955. It tells the story of the quest of the Fellowship of the Ring to destroy the One Ring, an evil artifact created by the Dark Lord Sauron.\n",
      "* **The Hobbit** is a prequel to The Lord of the Rings, published in 1937. It follows the adventures of Bilbo Baggins, a hobbit who joins a group of dwarves on a quest to reclaim their lost kingdom from the dragon Smaug.\n",
      "\n",
      "Both book series have been adapted into highly successful film trilogies directed by Peter Jackson. The Lord of the Rings film trilogy was released between 2001 and 2003, and The Hobbit film trilogy was released between 2012 and 2014."
     ]
    }
   ],
   "source": [
    "prompt = \"Are my favorite movies based on a book series?\"\n",
    "\n",
    "responses = chat.send_message(prompt, stream=True)\n",
    "\n",
    "for response in responses:\n",
    "    print(response.text, end=\"\")"
   ]
  },
  {
   "cell_type": "markdown",
   "metadata": {
    "id": "LLSpo4qQHNpI"
   },
   "source": [
    "You can also view the chat history:\n"
   ]
  },
  {
   "cell_type": "code",
   "execution_count": 10,
   "metadata": {
    "id": "DAyhwvMtHNpI",
    "outputId": "9a0310a9-fe84-4db3-b984-d702c0094ca4",
    "tags": []
   },
   "outputs": [
    {
     "name": "stdout",
     "output_type": "stream",
     "text": [
      "[role: \"user\"\n",
      "parts {\n",
      "  text: \"My name is Ned. You are my personal assistant. My favorite movies are Lord of the Rings and Hobbit.\\n\\nSuggest another movie I might like.\\n\"\n",
      "}\n",
      ", role: \"model\"\n",
      "parts {\n",
      "  text: \"**Fantasy Adventures:**\\n\\n* **Game of Thrones** (TV series): A complex and gripping fantasy epic with political intrigue, warfare, and mythical creatures.\\n* **The Princess Bride** (1987): A charming and whimsical adventure with a fairy-tale setting and memorable characters.\\n* **The Chronicles of Narnia: The Lion, the Witch and the Wardrobe** (2005): A magical and heartwarming adaptation of C.S. Lewis\\'s classic novel.\\n* **How to Train Your Dragon** (2010): An animated adventure about a young Viking who befriends a dragon and fights alongside him.\\n* **Eragon** (2006): A fantasy epic based on Christopher Paolini\\'s novel, featuring a young farm boy who discovers his destiny as a dragon rider.\\n\\n**Epic Historical Dramas:**\\n\\n* **Braveheart** (1995): A rousing and historically accurate tale of Scottish resistance against English rule.\\n* **Gladiator** (2000): A brutal and immersive depiction of ancient Rome, with stunning battle scenes and a powerful performance from Russell Crowe.\\n* **Kingdom of Heaven** (2005): A visually stunning and emotionally resonant historical epic set during the Crusades.\\n* **The Last Samurai** (2003): A captivating exploration of cultural clashes and the power of redemption, set in 19th-century Japan.\\n* **Troy** (2004): A stirring and action-packed adaptation of Homer\\'s epic poem, featuring a star-studded cast and breathtaking battles.\"\n",
      "}\n",
      ", role: \"user\"\n",
      "parts {\n",
      "  text: \"Are my favorite movies based on a book series?\"\n",
      "}\n",
      ", role: \"model\"\n",
      "parts {\n",
      "  text: \"Yes, both **The Lord of the Rings** and **The Hobbit** are based on book series by J.R.R. Tolkien.\\n\\n* **The Lord of the Rings** is a trilogy of epic fantasy novels published between 1954 and 1955. It tells the story of the quest of the Fellowship of the Ring to destroy the One Ring, an evil artifact created by the Dark Lord Sauron.\\n* **The Hobbit** is a prequel to The Lord of the Rings, published in 1937. It follows the adventures of Bilbo Baggins, a hobbit who joins a group of dwarves on a quest to reclaim their lost kingdom from the dragon Smaug.\\n\\nBoth book series have been adapted into highly successful film trilogies directed by Peter Jackson. The Lord of the Rings film trilogy was released between 2001 and 2003, and The Hobbit film trilogy was released between 2012 and 2014.\"\n",
      "}\n",
      "]\n"
     ]
    }
   ],
   "source": [
    "print(chat.history)"
   ]
  }
 ],
 "metadata": {
  "colab": {
   "provenance": [],
   "toc_visible": true
  },
  "environment": {
   "kernel": "conda-root-py",
   "name": "workbench-notebooks.m115",
   "type": "gcloud",
   "uri": "gcr.io/deeplearning-platform-release/workbench-notebooks:m115"
  },
  "kernelspec": {
   "display_name": ".venv",
   "language": "python",
   "name": "python3"
  },
  "language_info": {
   "codemirror_mode": {
    "name": "ipython",
    "version": 3
   },
   "file_extension": ".py",
   "mimetype": "text/x-python",
   "name": "python",
   "nbconvert_exporter": "python",
   "pygments_lexer": "ipython3",
   "version": "3.12.1"
  }
 },
 "nbformat": 4,
 "nbformat_minor": 4
}
